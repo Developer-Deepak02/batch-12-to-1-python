{
 "cells": [
  {
   "cell_type": "code",
   "execution_count": 15,
   "id": "29291898",
   "metadata": {},
   "outputs": [],
   "source": [
    "a = \"i am a lerener, i read python last time its syntex is very easy..\""
   ]
  },
  {
   "cell_type": "code",
   "execution_count": 16,
   "id": "b6639d75",
   "metadata": {},
   "outputs": [
    {
     "name": "stdout",
     "output_type": "stream",
     "text": [
      "{'p', 1, 'i', 'y', 'm', 's', 'l', ',', 'e', 't', ' ', 'x', 'v', 'o', 'a', 'd', 'r', 'n', 'h', '.'}\n"
     ]
    }
   ],
   "source": [
    "# set\n",
    "\n",
    "st = {1, }\n",
    "\n",
    "for i in a:\n",
    "    st.add(i)\n",
    "    \n",
    "print(st)\n",
    "    "
   ]
  },
  {
   "cell_type": "code",
   "execution_count": 17,
   "id": "63753ff3",
   "metadata": {},
   "outputs": [],
   "source": [
    "a = \"i am a lerener, i read python last time its syntex is very easy..\""
   ]
  },
  {
   "cell_type": "code",
   "execution_count": null,
   "id": "e5bca099",
   "metadata": {},
   "outputs": [],
   "source": [
    "lst = []\n",
    "\n",
    "for x in a:\n",
    "    if x in lst:\n",
    "        continue\n",
    "    lst.append(x)\n",
    "    \n",
    "print(lst)"
   ]
  },
  {
   "cell_type": "code",
   "execution_count": null,
   "id": "48f92b11",
   "metadata": {},
   "outputs": [],
   "source": [
    "# # while loop   : for while condation is true it execute\n",
    "\n",
    "\n",
    "# a = 10\n",
    "\n",
    "# # 10 == 10\n",
    "# while a == 10:\n",
    "#     print(\"heloooooo\")\n"
   ]
  },
  {
   "cell_type": "code",
   "execution_count": null,
   "id": "f002c3dc",
   "metadata": {},
   "outputs": [],
   "source": [
    "# while loop   : for while condation is true it execute\n",
    "\n",
    "\n",
    "a = 1\n",
    "\n",
    "# 10 == 10\n",
    "while a < 10:\n",
    "    print(\"heloooooo\")\n",
    "    a = a + 1\n"
   ]
  },
  {
   "cell_type": "code",
   "execution_count": null,
   "id": "407ee36f",
   "metadata": {},
   "outputs": [],
   "source": [
    "a = 1\n",
    "\n",
    "# 10 == 10\n",
    "while a < 10:\n",
    "    print(\"heloooooo\")\n",
    "    print(a)\n",
    "    a = a + 1\n",
    "    print(a)"
   ]
  },
  {
   "cell_type": "code",
   "execution_count": null,
   "id": "b89baf32",
   "metadata": {},
   "outputs": [],
   "source": [
    "a = 1"
   ]
  },
  {
   "cell_type": "code",
   "execution_count": null,
   "id": "16af630f",
   "metadata": {},
   "outputs": [],
   "source": [
    "a"
   ]
  },
  {
   "cell_type": "code",
   "execution_count": null,
   "id": "9b53668b",
   "metadata": {},
   "outputs": [],
   "source": []
  }
 ],
 "metadata": {
  "kernelspec": {
   "display_name": "Python 3 (ipykernel)",
   "language": "python",
   "name": "python3"
  },
  "language_info": {
   "codemirror_mode": {
    "name": "ipython",
    "version": 3
   },
   "file_extension": ".py",
   "mimetype": "text/x-python",
   "name": "python",
   "nbconvert_exporter": "python",
   "pygments_lexer": "ipython3",
   "version": "3.10.12"
  }
 },
 "nbformat": 4,
 "nbformat_minor": 5
}
