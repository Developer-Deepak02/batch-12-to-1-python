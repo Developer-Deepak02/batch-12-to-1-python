{
 "cells": [
  {
   "cell_type": "code",
   "execution_count": null,
   "id": "09e33c18",
   "metadata": {},
   "outputs": [],
   "source": [
    "pawerbi\n",
    "\n",
    "tablleu\n",
    "\n"
   ]
  },
  {
   "cell_type": "code",
   "execution_count": null,
   "id": "7836344e",
   "metadata": {},
   "outputs": [],
   "source": [
    "database => mysql, sqlite3, mongodb, .......\n",
    "\n",
    "sql =>  \n",
    "\n",
    "\n",
    "\n",
    "pawerbi\n",
    "\n"
   ]
  },
  {
   "cell_type": "code",
   "execution_count": 1,
   "id": "68e6e133",
   "metadata": {},
   "outputs": [
    {
     "name": "stdout",
     "output_type": "stream",
     "text": [
      "Hello\n"
     ]
    }
   ],
   "source": [
    "print(\"Hello\")"
   ]
  },
  {
   "cell_type": "code",
   "execution_count": 2,
   "id": "171460ef",
   "metadata": {},
   "outputs": [
    {
     "name": "stdout",
     "output_type": "stream",
     "text": [
      "xyz\n"
     ]
    }
   ],
   "source": [
    "print(\"xyz\")"
   ]
  },
  {
   "cell_type": "code",
   "execution_count": 3,
   "id": "7033ff47",
   "metadata": {},
   "outputs": [
    {
     "data": {
      "text/plain": [
       "50"
      ]
     },
     "execution_count": 3,
     "metadata": {},
     "output_type": "execute_result"
    }
   ],
   "source": [
    "10 + 40"
   ]
  },
  {
   "cell_type": "code",
   "execution_count": null,
   "id": "c489cb69",
   "metadata": {},
   "outputs": [],
   "source": [
    "python => \n",
    "1) simple \n",
    "2) gernal perpose\n",
    "3) High lavel\n",
    "4) object oriented\n",
    "5) interpreated\n",
    "6) Dynamic typed\n",
    "7) Case senstive language....\n",
    "\n",
    "\n",
    "\n",
    "# print(\"kajsbdksa\")\n",
    "\n",
    "1) web devlopment ===> Django, Flask...\n",
    "2) gamming ==> \n",
    "3) Mobile apps backed devlopment => DRF ( Django rest framework..)\n",
    "4) AI => \n",
    "\n",
    "\n",
    "# Language:\n",
    "#     1) High lavel language\n",
    "    \n",
    "      \n",
    "#     2) low lavel langauge (Machine languages :)    0 1\n",
    "    \n",
    "    \n",
    "    \n",
    "# 1) compiler\n",
    "    \n",
    "# 2) interpreter\n",
    "\n",
    "\n",
    "\n",
    "\n",
    "# object oriented:\n",
    "# OOPs  => classes or objcets\n",
    "# 1) Inharitance\n",
    "# 2) Polymorphism\n",
    "# 3) Abstraction\n",
    "# 4) Encapsulation\n",
    "\n",
    "\n",
    "# Dynamic typed:\n",
    "    \n",
    "#     int a,\n",
    "\n",
    "# a = 10.1\n",
    "\n",
    "\n",
    "\n",
    "# Case senstive:\n",
    "    \n",
    "#     a = 10\n",
    "    \n",
    "#     A = 20\n"
   ]
  },
  {
   "cell_type": "code",
   "execution_count": null,
   "id": "13355295",
   "metadata": {},
   "outputs": [],
   "source": [
    "# functions:\n",
    "# print() => to print something on console\n",
    "\n",
    "# input()  => to get input from user....\n",
    "\n",
    "# comments:   to increse code readabilty...\n",
    "\n",
    "\n",
    "#     1) single line comment\n",
    "\n",
    "#   skjdbfksdbfsdjfjsdfbksdjf\n",
    "    \n",
    "    \n",
    "#     2) Multiline comment\n",
    "\n",
    "\n",
    "# \"\"\"\n",
    "#     sjfbksdbfds\n",
    "#     sdfbskdjfbksdf\n",
    "#     skdfbsdkbfdsjfk\n",
    "#     skdjfbksdbfkdksjf\n",
    "\n",
    "# \"\"\"/\n",
    "\n"
   ]
  },
  {
   "cell_type": "code",
   "execution_count": 4,
   "id": "220dddb5",
   "metadata": {},
   "outputs": [
    {
     "name": "stdout",
     "output_type": "stream",
     "text": [
      "this is a string....\n"
     ]
    }
   ],
   "source": [
    "print(\"this is a string....\")"
   ]
  },
  {
   "cell_type": "code",
   "execution_count": 5,
   "id": "3ce9e8dc",
   "metadata": {},
   "outputs": [],
   "source": [
    "# data types:\n",
    "#     1) integer\n",
    "#     2) Float\n",
    "#     3) String\n",
    "#     4) Boolean\n",
    "#     5) List\n",
    "#     6) Tuple\n",
    "#     7) Dictionry\n",
    "#     8) Set\n",
    "\n",
    "# type()"
   ]
  },
  {
   "cell_type": "code",
   "execution_count": 14,
   "id": "b8ef98d3",
   "metadata": {},
   "outputs": [
    {
     "data": {
      "text/plain": [
       "str"
      ]
     },
     "execution_count": 14,
     "metadata": {},
     "output_type": "execute_result"
    }
   ],
   "source": [
    "a = '10.4wewejwbriwbriwerbweiriewfk5'\n",
    "type(a)"
   ]
  },
  {
   "cell_type": "code",
   "execution_count": 16,
   "id": "05c55f6f",
   "metadata": {},
   "outputs": [
    {
     "data": {
      "text/plain": [
       "True"
      ]
     },
     "execution_count": 16,
     "metadata": {},
     "output_type": "execute_result"
    }
   ],
   "source": [
    "a = True\n",
    "a"
   ]
  },
  {
   "cell_type": "code",
   "execution_count": 41,
   "id": "dc2f36a0",
   "metadata": {},
   "outputs": [
    {
     "ename": "TypeError",
     "evalue": "'<' not supported between instances of 'str' and 'int'",
     "output_type": "error",
     "traceback": [
      "\u001b[0;31m---------------------------------------------------------------------------\u001b[0m",
      "\u001b[0;31mTypeError\u001b[0m                                 Traceback (most recent call last)",
      "Cell \u001b[0;32mIn[41], line 26\u001b[0m\n\u001b[1;32m      7\u001b[0m \u001b[38;5;66;03m# lst\u001b[39;00m\n\u001b[1;32m      8\u001b[0m \u001b[38;5;66;03m# type(lst)\u001b[39;00m\n\u001b[1;32m      9\u001b[0m \n\u001b[0;32m   (...)\u001b[0m\n\u001b[1;32m     21\u001b[0m \n\u001b[1;32m     22\u001b[0m \u001b[38;5;66;03m# insert()\u001b[39;00m\n\u001b[1;32m     24\u001b[0m lst\u001b[38;5;241m.\u001b[39minsert(\u001b[38;5;241m2\u001b[39m, \u001b[38;5;124m\"\u001b[39m\u001b[38;5;124mabc\u001b[39m\u001b[38;5;124m\"\u001b[39m)\n\u001b[0;32m---> 26\u001b[0m \u001b[43mlst\u001b[49m\u001b[38;5;241;43m.\u001b[39;49m\u001b[43msort\u001b[49m\u001b[43m(\u001b[49m\u001b[43m)\u001b[49m\n",
      "\u001b[0;31mTypeError\u001b[0m: '<' not supported between instances of 'str' and 'int'"
     ]
    }
   ],
   "source": [
    "# List : to store diffrent type of data....\n",
    "# []\n",
    "\n",
    "lst = [1, 2, \"hlo\", 12.9, \"xyz\", 90]\n",
    "\n",
    "\n",
    "# lst\n",
    "# type(lst)\n",
    "\n",
    "# slicing:\n",
    "\n",
    "# lst[1:4]\n",
    "\n",
    "# [start:end:increment]\n",
    "\n",
    "# lst[::3]\n",
    "\n",
    "# lst[2 : 5 : 6]\n",
    "\n",
    "# append() => to add new elemnt in list\n",
    "\n",
    "# insert()\n",
    "\n",
    "lst.insert(2, \"abc\")\n",
    "\n",
    "lst.sort()"
   ]
  },
  {
   "cell_type": "code",
   "execution_count": 44,
   "id": "4df33ca8",
   "metadata": {},
   "outputs": [],
   "source": [
    "lst = [3, 4,52, 9, 12, 34]\n",
    "\n",
    "lst.sort()"
   ]
  },
  {
   "cell_type": "code",
   "execution_count": 45,
   "id": "d1521e95",
   "metadata": {},
   "outputs": [
    {
     "data": {
      "text/plain": [
       "[3, 4, 9, 12, 34, 52]"
      ]
     },
     "execution_count": 45,
     "metadata": {},
     "output_type": "execute_result"
    }
   ],
   "source": [
    "lst"
   ]
  },
  {
   "cell_type": "code",
   "execution_count": 46,
   "id": "98bde7a9",
   "metadata": {},
   "outputs": [
    {
     "data": {
      "text/plain": [
       "tuple"
      ]
     },
     "execution_count": 46,
     "metadata": {},
     "output_type": "execute_result"
    }
   ],
   "source": [
    "# tuple => to store diffrent type of data\n",
    "# ()\n",
    "\n",
    "ty = (1, 23, 34, 90)\n",
    "\n",
    "# type(ty)"
   ]
  },
  {
   "cell_type": "code",
   "execution_count": 48,
   "id": "c2ac865a",
   "metadata": {},
   "outputs": [
    {
     "data": {
      "text/plain": [
       "{100, 12, 34, 56, 'hlo'}"
      ]
     },
     "execution_count": 48,
     "metadata": {},
     "output_type": "execute_result"
    }
   ],
   "source": [
    "# set  \n",
    "# {}\n",
    "# st = {12, 34, 56, \"hlo\", 12, 34, 100}\n",
    "\n",
    "# st"
   ]
  },
  {
   "cell_type": "code",
   "execution_count": 49,
   "id": "d28e0df1",
   "metadata": {},
   "outputs": [
    {
     "data": {
      "text/plain": [
       "dict"
      ]
     },
     "execution_count": 49,
     "metadata": {},
     "output_type": "execute_result"
    }
   ],
   "source": [
    "# dictionry => format of key value >>>>>>> key : value\n",
    "# {}\n",
    "dct = {\"name\" : \"kriss\", \"age\" : 12, \"class\" : \"10th\"}\n",
    "\n",
    "type(dct)"
   ]
  },
  {
   "cell_type": "code",
   "execution_count": 53,
   "id": "e776f131",
   "metadata": {},
   "outputs": [
    {
     "name": "stdout",
     "output_type": "stream",
     "text": [
      "akjsbkasdksaj 10 20\n"
     ]
    }
   ],
   "source": [
    "# a = 10\n",
    "# b = 20\n",
    "# print(\"akjsbkasdksaj\", a, b)"
   ]
  },
  {
   "cell_type": "code",
   "execution_count": 57,
   "id": "1b1e6e52",
   "metadata": {},
   "outputs": [
    {
     "name": "stdout",
     "output_type": "stream",
     "text": [
      "Enter your name : kriis\n",
      "User enter their name :  kriis\n"
     ]
    }
   ],
   "source": [
    "# input()\n",
    "\n",
    "# name = input(\"Enter your name : \")  ===> str\n",
    "\n",
    "# print(\"User enter their name : \", name)"
   ]
  },
  {
   "cell_type": "code",
   "execution_count": 60,
   "id": "538eb92f",
   "metadata": {},
   "outputs": [
    {
     "name": "stdout",
     "output_type": "stream",
     "text": [
      "Enter first number : 10\n",
      "Enter second number : 23\n",
      "the output is :  33\n"
     ]
    }
   ],
   "source": [
    "num1 = int(input(\"Enter first number : \"))\n",
    "num2 = int(input(\"Enter second number : \"))\n",
    "\n",
    "# concatination : join two strings\n",
    "\n",
    "sumx = num1 + num2\n",
    "\n",
    "print(\"the output is : \", sumx)"
   ]
  },
  {
   "cell_type": "code",
   "execution_count": 66,
   "id": "00274d8a",
   "metadata": {},
   "outputs": [
    {
     "ename": "SyntaxError",
     "evalue": "invalid syntax (3407639312.py, line 9)",
     "output_type": "error",
     "traceback": [
      "\u001b[0;36m  Cell \u001b[0;32mIn[66], line 9\u001b[0;36m\u001b[0m\n\u001b[0;31m    abc 12 = 10\u001b[0m\n\u001b[0m        ^\u001b[0m\n\u001b[0;31mSyntaxError\u001b[0m\u001b[0;31m:\u001b[0m invalid syntax\n"
     ]
    }
   ],
   "source": [
    "# variable decleartion\n",
    "\n",
    "# 1) Variables always strat from chracter or underscore (_)\n",
    "# 2) Variables neve start from integer or any symbol\n",
    "# 3) variable never be a keyword\n",
    "# 4) Variables never hold space\n",
    "\n",
    "\n",
    "# abc 12 = 10\n",
    "\n",
    "# abc12\n",
    "\n",
    "\n"
   ]
  },
  {
   "cell_type": "code",
   "execution_count": null,
   "id": "ce13bb4c",
   "metadata": {},
   "outputs": [],
   "source": [
    "# list\n",
    "\n",
    "# numpy"
   ]
  }
 ],
 "metadata": {
  "kernelspec": {
   "display_name": "Python 3 (ipykernel)",
   "language": "python",
   "name": "python3"
  },
  "language_info": {
   "codemirror_mode": {
    "name": "ipython",
    "version": 3
   },
   "file_extension": ".py",
   "mimetype": "text/x-python",
   "name": "python",
   "nbconvert_exporter": "python",
   "pygments_lexer": "ipython3",
   "version": "3.10.6"
  }
 },
 "nbformat": 4,
 "nbformat_minor": 5
}
