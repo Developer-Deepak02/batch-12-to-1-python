{
 "cells": [
  {
   "cell_type": "code",
   "execution_count": null,
   "id": "19f9182e",
   "metadata": {},
   "outputs": [],
   "source": [
    "# loop : are use to ittrate\n",
    "\n",
    "range(start, end, increment)\n",
    "\n",
    "# default\n",
    "start = 0\n",
    "end = n - 1\n",
    "increment = 1 \n",
    "\n",
    "# range(1, 10, 2)"
   ]
  },
  {
   "cell_type": "code",
   "execution_count": 7,
   "id": "f5eac571",
   "metadata": {},
   "outputs": [
    {
     "name": "stdout",
     "output_type": "stream",
     "text": [
      "0\n",
      "car\n",
      "bus\n",
      "2\n",
      "car\n",
      "bus\n",
      "4\n",
      "car\n",
      "bus\n",
      "6\n",
      "car\n",
      "bus\n",
      "8\n",
      "car\n",
      "bus\n"
     ]
    }
   ],
   "source": [
    "for u in range(0, 10, 2):\n",
    "    print(u)\n",
    "    print(\"car\")\n",
    "    print(\"bus\")"
   ]
  },
  {
   "cell_type": "code",
   "execution_count": 8,
   "id": "33f8a69e",
   "metadata": {},
   "outputs": [],
   "source": [
    "lt = [12, \"car\", \"bus\", \"ike\", 90]"
   ]
  },
  {
   "cell_type": "code",
   "execution_count": 9,
   "id": "a93348db",
   "metadata": {},
   "outputs": [
    {
     "name": "stdout",
     "output_type": "stream",
     "text": [
      "12\n",
      "car\n",
      "bus\n",
      "ike\n",
      "90\n"
     ]
    }
   ],
   "source": [
    "for g in lt:\n",
    "    print(g)"
   ]
  },
  {
   "cell_type": "code",
   "execution_count": 10,
   "id": "e1c6a8f3",
   "metadata": {},
   "outputs": [
    {
     "name": "stdout",
     "output_type": "stream",
     "text": [
      "i\n",
      " \n",
      "m\n",
      "a\n",
      " \n",
      "a\n",
      " \n",
      "d\n",
      "e\n",
      "v\n",
      "l\n",
      "o\n",
      "p\n",
      "e\n",
      "r\n"
     ]
    }
   ],
   "source": [
    "a = \"i ma a devloper\"\n",
    "\n",
    "for k in a:\n",
    "    print(k)"
   ]
  },
  {
   "cell_type": "code",
   "execution_count": 14,
   "id": "22992d2f",
   "metadata": {},
   "outputs": [
    {
     "name": "stdout",
     "output_type": "stream",
     "text": [
      "3\n",
      "7\n",
      "12\n",
      "21\n",
      "24\n"
     ]
    }
   ],
   "source": [
    "lt = [3, 4, 5, 9, 3]\n",
    "\n",
    "total = 0\n",
    "\n",
    "for u in lt:\n",
    "#     print(u)\n",
    "    total = total + u    # 0, 3, 7, ....\n",
    "\n",
    "    print(total)"
   ]
  },
  {
   "cell_type": "code",
   "execution_count": 15,
   "id": "9f46c30c",
   "metadata": {},
   "outputs": [],
   "source": [
    "# break\n",
    "\n",
    "\n",
    "# continue"
   ]
  },
  {
   "cell_type": "code",
   "execution_count": 24,
   "id": "b7d37e0c",
   "metadata": {},
   "outputs": [
    {
     "name": "stdout",
     "output_type": "stream",
     "text": [
      "0\n",
      "aaaaaaaaaaaaa\n",
      "bbbbbbbbbbbbbbb\n",
      "1\n",
      "aaaaaaaaaaaaa\n",
      "bbbbbbbbbbbbbbb\n",
      "2\n",
      "aaaaaaaaaaaaa\n",
      "bbbbbbbbbbbbbbb\n",
      "3\n",
      "aaaaaaaaaaaaa\n",
      "bbbbbbbbbbbbbbb\n",
      "4\n",
      "aaaaaaaaaaaaa\n",
      "bbbbbbbbbbbbbbb\n",
      "5\n",
      "aaaaaaaaaaaaa\n",
      "bbbbbbbbbbbbbbb\n",
      "6\n",
      "aaaaaaaaaaaaa\n",
      "bbbbbbbbbbbbbbb\n",
      "7\n",
      "aaaaaaaaaaaaa\n",
      "bbbbbbbbbbbbbbb\n",
      "8\n",
      "aaaaaaaaaaaaa\n",
      "bbbbbbbbbbbbbbb\n",
      "9\n",
      "aaaaaaaaaaaaa\n",
      "bbbbbbbbbbbbbbb\n",
      "10\n",
      "aaaaaaaaaaaaa\n",
      "bbbbbbbbbbbbbbb\n",
      "11\n",
      "12\n",
      "aaaaaaaaaaaaa\n",
      "bbbbbbbbbbbbbbb\n",
      "13\n",
      "aaaaaaaaaaaaa\n",
      "bbbbbbbbbbbbbbb\n",
      "14\n",
      "aaaaaaaaaaaaa\n",
      "bbbbbbbbbbbbbbb\n",
      "15\n",
      "aaaaaaaaaaaaa\n",
      "bbbbbbbbbbbbbbb\n",
      "16\n",
      "aaaaaaaaaaaaa\n",
      "bbbbbbbbbbbbbbb\n",
      "17\n",
      "aaaaaaaaaaaaa\n",
      "bbbbbbbbbbbbbbb\n",
      "18\n",
      "aaaaaaaaaaaaa\n",
      "bbbbbbbbbbbbbbb\n",
      "19\n",
      "aaaaaaaaaaaaa\n",
      "bbbbbbbbbbbbbbb\n",
      "20\n",
      "aaaaaaaaaaaaa\n",
      "bbbbbbbbbbbbbbb\n",
      "21\n",
      "aaaaaaaaaaaaa\n",
      "bbbbbbbbbbbbbbb\n",
      "22\n",
      "aaaaaaaaaaaaa\n",
      "bbbbbbbbbbbbbbb\n",
      "23\n",
      "aaaaaaaaaaaaa\n",
      "bbbbbbbbbbbbbbb\n",
      "24\n",
      "aaaaaaaaaaaaa\n",
      "bbbbbbbbbbbbbbb\n",
      "25\n",
      "aaaaaaaaaaaaa\n",
      "bbbbbbbbbbbbbbb\n",
      "26\n",
      "aaaaaaaaaaaaa\n",
      "bbbbbbbbbbbbbbb\n",
      "27\n",
      "aaaaaaaaaaaaa\n",
      "bbbbbbbbbbbbbbb\n",
      "28\n",
      "aaaaaaaaaaaaa\n",
      "bbbbbbbbbbbbbbb\n",
      "29\n",
      "aaaaaaaaaaaaa\n",
      "bbbbbbbbbbbbbbb\n"
     ]
    }
   ],
   "source": [
    "for i in range(30):\n",
    "    print(i)\n",
    "    if i == 11:\n",
    "        continue\n",
    "    \n",
    "    print(\"aaaaaaaaaaaaa\")\n",
    "    print(\"bbbbbbbbbbbbbbb\")\n"
   ]
  },
  {
   "cell_type": "code",
   "execution_count": null,
   "id": "b40652fb",
   "metadata": {},
   "outputs": [],
   "source": []
  }
 ],
 "metadata": {
  "kernelspec": {
   "display_name": "Python 3 (ipykernel)",
   "language": "python",
   "name": "python3"
  },
  "language_info": {
   "codemirror_mode": {
    "name": "ipython",
    "version": 3
   },
   "file_extension": ".py",
   "mimetype": "text/x-python",
   "name": "python",
   "nbconvert_exporter": "python",
   "pygments_lexer": "ipython3",
   "version": "3.10.12"
  }
 },
 "nbformat": 4,
 "nbformat_minor": 5
}
