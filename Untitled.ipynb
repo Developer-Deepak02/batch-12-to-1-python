{
 "cells": [
  {
   "cell_type": "code",
   "execution_count": 9,
   "id": "ff532e62",
   "metadata": {},
   "outputs": [],
   "source": [
    "# OOPs:\n",
    "# lambda function\n",
    "\n",
    "# abc = lambda arguments : expression\n",
    "\n",
    "def sum(a, b):\n",
    "    c = a + b\n",
    "    \n",
    "    return c\n",
    "    "
   ]
  },
  {
   "cell_type": "code",
   "execution_count": 16,
   "id": "83ed5502",
   "metadata": {},
   "outputs": [],
   "source": [
    "xy = sum(12, 10)"
   ]
  },
  {
   "cell_type": "code",
   "execution_count": 17,
   "id": "53821a56",
   "metadata": {},
   "outputs": [
    {
     "name": "stdout",
     "output_type": "stream",
     "text": [
      "22\n"
     ]
    }
   ],
   "source": [
    "print(xy)"
   ]
  },
  {
   "cell_type": "code",
   "execution_count": 18,
   "id": "7318b59b",
   "metadata": {},
   "outputs": [],
   "source": [
    "abc = lambda a, b : a + b"
   ]
  },
  {
   "cell_type": "code",
   "execution_count": 19,
   "id": "e5ad0806",
   "metadata": {},
   "outputs": [
    {
     "data": {
      "text/plain": [
       "20"
      ]
     },
     "execution_count": 19,
     "metadata": {},
     "output_type": "execute_result"
    }
   ],
   "source": [
    "abc(10, 10)"
   ]
  },
  {
   "cell_type": "code",
   "execution_count": 20,
   "id": "f9f109ba",
   "metadata": {},
   "outputs": [],
   "source": [
    "# OOPs => Object oriented programming\n",
    "    # 1) Inharitance\n",
    "    # 2) Abstraction\n",
    "    # 3) Encapsultion\n",
    "    # 4) Polymorphisum\n",
    "    # 5) class\n",
    "    # 6) Objects"
   ]
  },
  {
   "cell_type": "code",
   "execution_count": 21,
   "id": "3c69d937",
   "metadata": {},
   "outputs": [],
   "source": [
    "# class  => class is blueprint of an object.\n",
    "\n",
    "# object => instance of the class"
   ]
  },
  {
   "cell_type": "code",
   "execution_count": 22,
   "id": "f5aeca8b",
   "metadata": {},
   "outputs": [],
   "source": [
    "class clas1:\n",
    "    def car(self):  #method\n",
    "#         self => for refrencing\n",
    "        print(\"i am a car\")\n",
    "    \n",
    "    def bus(self):\n",
    "        print(\"i am a class 1 mthd bus\")\n",
    "    \n",
    "    def train(self):\n",
    "        print(\"i am a train..\")"
   ]
  },
  {
   "cell_type": "code",
   "execution_count": 23,
   "id": "b51ce716",
   "metadata": {},
   "outputs": [],
   "source": [
    "obj = clas1()"
   ]
  },
  {
   "cell_type": "code",
   "execution_count": 25,
   "id": "eff844a6",
   "metadata": {},
   "outputs": [
    {
     "name": "stdout",
     "output_type": "stream",
     "text": [
      "i am a car\n"
     ]
    }
   ],
   "source": [
    "obj.car()"
   ]
  },
  {
   "cell_type": "code",
   "execution_count": 26,
   "id": "7ef533eb",
   "metadata": {},
   "outputs": [
    {
     "name": "stdout",
     "output_type": "stream",
     "text": [
      "i am a train..\n"
     ]
    }
   ],
   "source": [
    "obj.train()"
   ]
  },
  {
   "cell_type": "code",
   "execution_count": 27,
   "id": "c93ba890",
   "metadata": {},
   "outputs": [],
   "source": [
    "obj1 = clas1()"
   ]
  },
  {
   "cell_type": "code",
   "execution_count": 30,
   "id": "236c2007",
   "metadata": {},
   "outputs": [
    {
     "name": "stdout",
     "output_type": "stream",
     "text": [
      "i am a car\n"
     ]
    }
   ],
   "source": [
    "obj1.car()"
   ]
  },
  {
   "cell_type": "code",
   "execution_count": 33,
   "id": "488a8490",
   "metadata": {},
   "outputs": [],
   "source": [
    "# constructer : \n",
    "\n",
    "class hlp:\n",
    "    def __init__(self):\n",
    "        print(\"Heloooooooooooooooooo\")\n",
    "    \n",
    "    def car(self):\n",
    "        print(\"i am carr\")"
   ]
  },
  {
   "cell_type": "code",
   "execution_count": 35,
   "id": "f8dee04e",
   "metadata": {},
   "outputs": [
    {
     "name": "stdout",
     "output_type": "stream",
     "text": [
      "Heloooooooooooooooooo\n",
      "Heloooooooooooooooooo\n"
     ]
    }
   ],
   "source": [
    "xyz = hlp()\n",
    "obj = hlp()"
   ]
  },
  {
   "cell_type": "code",
   "execution_count": 36,
   "id": "e37a9d50",
   "metadata": {},
   "outputs": [
    {
     "name": "stdout",
     "output_type": "stream",
     "text": [
      "i am carr\n"
     ]
    }
   ],
   "source": [
    "obj.car()"
   ]
  },
  {
   "cell_type": "code",
   "execution_count": 41,
   "id": "6f0b537b",
   "metadata": {},
   "outputs": [],
   "source": [
    "class cal:\n",
    "    def __init__(self, a, b):\n",
    "        self.num1 = a\n",
    "        self.num2 = b\n",
    "    \n",
    "    def sumthis(self):\n",
    "        print(self.num1 + self.num2)"
   ]
  },
  {
   "cell_type": "code",
   "execution_count": 44,
   "id": "0a29be57",
   "metadata": {},
   "outputs": [],
   "source": [
    "obj = cal(13, 101)"
   ]
  },
  {
   "cell_type": "code",
   "execution_count": 45,
   "id": "e5d7e620",
   "metadata": {},
   "outputs": [
    {
     "name": "stdout",
     "output_type": "stream",
     "text": [
      "114\n"
     ]
    }
   ],
   "source": [
    "obj.sumthis()"
   ]
  },
  {
   "cell_type": "code",
   "execution_count": 46,
   "id": "ed9702de",
   "metadata": {},
   "outputs": [],
   "source": [
    "obj1 = cal(100, 200)"
   ]
  },
  {
   "cell_type": "code",
   "execution_count": 47,
   "id": "9728645b",
   "metadata": {},
   "outputs": [
    {
     "name": "stdout",
     "output_type": "stream",
     "text": [
      "114\n"
     ]
    }
   ],
   "source": [
    "obj.sumthis()"
   ]
  },
  {
   "cell_type": "code",
   "execution_count": 48,
   "id": "749cb733",
   "metadata": {},
   "outputs": [
    {
     "name": "stdout",
     "output_type": "stream",
     "text": [
      "300\n"
     ]
    }
   ],
   "source": [
    "obj1.sumthis()"
   ]
  },
  {
   "cell_type": "code",
   "execution_count": 49,
   "id": "50a2b2e3",
   "metadata": {},
   "outputs": [],
   "source": [
    "# class\n",
    "# object\n",
    "# self\n",
    "# constrcter\n",
    "# mthods"
   ]
  },
  {
   "cell_type": "code",
   "execution_count": 50,
   "id": "ae18862f",
   "metadata": {},
   "outputs": [],
   "source": [
    "# 1) Inharitance :"
   ]
  },
  {
   "cell_type": "code",
   "execution_count": 61,
   "id": "ff1ec0bb",
   "metadata": {},
   "outputs": [],
   "source": [
    "class clas1:\n",
    "    def mthd1(self):\n",
    "        print(\"i am from class1 and mthd1\")\n",
    "    \n",
    "    def mthd2(self):\n",
    "        print(\"i am from class1 and mthd2\")\n",
    "        \n",
    "    def mthd3(self):\n",
    "        print(\"i am from class1 and mthd3\")"
   ]
  },
  {
   "cell_type": "code",
   "execution_count": 62,
   "id": "caba4333",
   "metadata": {},
   "outputs": [],
   "source": [
    "class clas2(clas1):\n",
    "    def mthd4(self):\n",
    "        print(\"i am from class 2 and mthod 4\")\n",
    "        \n",
    "    def mthd5(self):\n",
    "        print(\"i am from class 2 and mthod 5\")"
   ]
  },
  {
   "cell_type": "code",
   "execution_count": 63,
   "id": "7c8ef5e4",
   "metadata": {},
   "outputs": [],
   "source": [
    "obj1 = clas1()"
   ]
  },
  {
   "cell_type": "code",
   "execution_count": 64,
   "id": "b9a85b41",
   "metadata": {},
   "outputs": [
    {
     "name": "stdout",
     "output_type": "stream",
     "text": [
      "i am from class1 and mthd2\n"
     ]
    }
   ],
   "source": [
    "obj1.mthd2()"
   ]
  },
  {
   "cell_type": "code",
   "execution_count": 65,
   "id": "e415f290",
   "metadata": {},
   "outputs": [
    {
     "ename": "AttributeError",
     "evalue": "'clas1' object has no attribute 'mthd4'",
     "output_type": "error",
     "traceback": [
      "\u001b[0;31m---------------------------------------------------------------------------\u001b[0m",
      "\u001b[0;31mAttributeError\u001b[0m                            Traceback (most recent call last)",
      "Cell \u001b[0;32mIn[65], line 1\u001b[0m\n\u001b[0;32m----> 1\u001b[0m \u001b[43mobj1\u001b[49m\u001b[38;5;241;43m.\u001b[39;49m\u001b[43mmthd4\u001b[49m()\n",
      "\u001b[0;31mAttributeError\u001b[0m: 'clas1' object has no attribute 'mthd4'"
     ]
    }
   ],
   "source": [
    "obj1.mthd4()"
   ]
  },
  {
   "cell_type": "code",
   "execution_count": 66,
   "id": "d8664160",
   "metadata": {},
   "outputs": [],
   "source": [
    "obj2 = clas2()"
   ]
  },
  {
   "cell_type": "code",
   "execution_count": 67,
   "id": "35f34460",
   "metadata": {},
   "outputs": [
    {
     "name": "stdout",
     "output_type": "stream",
     "text": [
      "i am from class 2 and mthod 5\n"
     ]
    }
   ],
   "source": [
    "obj2.mthd5()"
   ]
  },
  {
   "cell_type": "code",
   "execution_count": 68,
   "id": "18a04946",
   "metadata": {},
   "outputs": [
    {
     "name": "stdout",
     "output_type": "stream",
     "text": [
      "i am from class1 and mthd2\n"
     ]
    }
   ],
   "source": [
    "obj2.mthd2()"
   ]
  },
  {
   "cell_type": "code",
   "execution_count": null,
   "id": "2d9b6c6d",
   "metadata": {},
   "outputs": [],
   "source": []
  },
  {
   "cell_type": "code",
   "execution_count": 82,
   "id": "b7e2aee7",
   "metadata": {},
   "outputs": [],
   "source": [
    "class classss1:\n",
    "    def __init__(self, a, b):\n",
    "        self.name = a\n",
    "        self.age = b\n",
    "    \n",
    "    def username(self):\n",
    "        print(f\"user name is : {self.name}\")\n",
    "        "
   ]
  },
  {
   "cell_type": "code",
   "execution_count": 83,
   "id": "bd126203",
   "metadata": {},
   "outputs": [],
   "source": [
    "class classs2(classss1):\n",
    "    def usernamee(self):\n",
    "        print(f\"user age is : {self.age}\")"
   ]
  },
  {
   "cell_type": "code",
   "execution_count": null,
   "id": "0e026c56",
   "metadata": {},
   "outputs": [],
   "source": []
  },
  {
   "cell_type": "code",
   "execution_count": 84,
   "id": "714408b8",
   "metadata": {},
   "outputs": [],
   "source": [
    "objec = classs2(\"Moris\", 20)"
   ]
  },
  {
   "cell_type": "code",
   "execution_count": 85,
   "id": "ec6c43b9",
   "metadata": {},
   "outputs": [
    {
     "name": "stdout",
     "output_type": "stream",
     "text": [
      "user age is : 20\n"
     ]
    }
   ],
   "source": [
    "objec.usernamee()"
   ]
  },
  {
   "cell_type": "code",
   "execution_count": 86,
   "id": "5a2c8458",
   "metadata": {},
   "outputs": [
    {
     "name": "stdout",
     "output_type": "stream",
     "text": [
      "first number is : 10\n",
      "60\n"
     ]
    }
   ],
   "source": [
    "class classss1:\n",
    "    def __init__(self, a, b):\n",
    "        self.num1 = 10\n",
    "        self.num2 = 50\n",
    "    \n",
    "    def username(self):\n",
    "        print(f\"first number is : {self.num1}\")\n",
    "\n",
    "class classs2(classss1):\n",
    "    def usernamee(self):\n",
    "        print(f\"first number is : {self.num1}\")\n",
    "    \n",
    "    def sunok(self):\n",
    "        print(self.num1 + self.num2)\n",
    "\n",
    "objec = classs2(10, 20)\n",
    "\n",
    "objec.usernamee()\n",
    "objec.sunok()"
   ]
  },
  {
   "cell_type": "code",
   "execution_count": 87,
   "id": "27b256b9",
   "metadata": {},
   "outputs": [],
   "source": [
    "class ok:\n",
    "    def __init__(self, a, b):\n",
    "        self.x = a\n",
    "        self.y = b\n",
    "    \n",
    "class done(ok):\n",
    "    def sm(self):\n",
    "        print(self.x + self.y)"
   ]
  },
  {
   "cell_type": "code",
   "execution_count": 88,
   "id": "096bc204",
   "metadata": {},
   "outputs": [],
   "source": [
    "o = done(12, 10)"
   ]
  },
  {
   "cell_type": "code",
   "execution_count": 90,
   "id": "f8c86749",
   "metadata": {},
   "outputs": [
    {
     "name": "stdout",
     "output_type": "stream",
     "text": [
      "22\n"
     ]
    }
   ],
   "source": [
    "o.sm()"
   ]
  },
  {
   "cell_type": "code",
   "execution_count": 133,
   "id": "d6ee2e7a",
   "metadata": {},
   "outputs": [],
   "source": [
    "class clas1:\n",
    "    def __init__(self, a, b):\n",
    "        self.name = a\n",
    "        self.age = b\n",
    "    \n",
    "    def userrecoed(self):\n",
    "        print(f\"{self.name} have the {self.age} age.\")\n",
    "        \n",
    "class clas2(clas1):\n",
    "    def __init__(self, a, b, c):\n",
    "        super().__init__(a, b)\n",
    "        self.phone_number = c\n",
    "        \n",
    "    def newdatasave(self):    \n",
    "        print((f\"{self.name} have the {self.age} age and his phone number is : {self.phone_number}\"))"
   ]
  },
  {
   "cell_type": "code",
   "execution_count": 134,
   "id": "46ea2814",
   "metadata": {},
   "outputs": [],
   "source": [
    "obj = clas1(\"kriss\", 20)\n",
    "obj1 = clas1(\"moris\", 21)\n",
    "obj3 = clas1(\"ayush\", 22)\n",
    "obj4 = clas1(\"pars\", 19)"
   ]
  },
  {
   "cell_type": "code",
   "execution_count": 135,
   "id": "a89e6f98",
   "metadata": {},
   "outputs": [
    {
     "name": "stdout",
     "output_type": "stream",
     "text": [
      "pars have the 19 age.\n"
     ]
    }
   ],
   "source": [
    "obj4.userrecoed()"
   ]
  },
  {
   "cell_type": "code",
   "execution_count": 136,
   "id": "b9b30552",
   "metadata": {},
   "outputs": [],
   "source": [
    "obj5 = clas2(\"newdata\", 10)"
   ]
  },
  {
   "cell_type": "code",
   "execution_count": 137,
   "id": "213047da",
   "metadata": {},
   "outputs": [
    {
     "name": "stdout",
     "output_type": "stream",
     "text": [
      "newdata have the 10 age \n"
     ]
    }
   ],
   "source": [
    "obj5.newdatasave()"
   ]
  },
  {
   "cell_type": "code",
   "execution_count": 125,
   "id": "9a0628d3",
   "metadata": {},
   "outputs": [],
   "source": [
    "obj6 = clas2(\"mydata\", 20, 9837492)"
   ]
  },
  {
   "cell_type": "code",
   "execution_count": 126,
   "id": "3bdce26f",
   "metadata": {},
   "outputs": [
    {
     "name": "stdout",
     "output_type": "stream",
     "text": [
      "mydata have the 20 age and his phone number is : 9837492\n"
     ]
    }
   ],
   "source": [
    "obj6.newdatasave()"
   ]
  },
  {
   "cell_type": "code",
   "execution_count": null,
   "id": "7fc9d70d",
   "metadata": {},
   "outputs": [],
   "source": []
  },
  {
   "cell_type": "code",
   "execution_count": 91,
   "id": "0241639d",
   "metadata": {},
   "outputs": [],
   "source": [
    "# super()"
   ]
  },
  {
   "cell_type": "code",
   "execution_count": 92,
   "id": "f1a2d3eb",
   "metadata": {},
   "outputs": [],
   "source": [
    "# Abstraction   ===> for hinding actual flow"
   ]
  },
  {
   "cell_type": "code",
   "execution_count": 93,
   "id": "c2865722",
   "metadata": {},
   "outputs": [],
   "source": [
    "from abc import ABC, abstractmethod"
   ]
  },
  {
   "cell_type": "code",
   "execution_count": 94,
   "id": "82055976",
   "metadata": {},
   "outputs": [],
   "source": [
    "# abc => abstract base class"
   ]
  },
  {
   "cell_type": "code",
   "execution_count": null,
   "id": "eb936334",
   "metadata": {},
   "outputs": [],
   "source": [
    "class clas1:\n",
    "    def car(self):\n",
    "        print(\"i am a car\")"
   ]
  }
 ],
 "metadata": {
  "kernelspec": {
   "display_name": "Python 3 (ipykernel)",
   "language": "python",
   "name": "python3"
  },
  "language_info": {
   "codemirror_mode": {
    "name": "ipython",
    "version": 3
   },
   "file_extension": ".py",
   "mimetype": "text/x-python",
   "name": "python",
   "nbconvert_exporter": "python",
   "pygments_lexer": "ipython3",
   "version": "3.10.12"
  }
 },
 "nbformat": 4,
 "nbformat_minor": 5
}
