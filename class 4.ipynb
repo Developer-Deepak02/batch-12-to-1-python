{
 "cells": [
  {
   "cell_type": "code",
   "execution_count": 15,
   "id": "29291898",
   "metadata": {},
   "outputs": [],
   "source": [
    "a = \"i am a lerener, i read python last time its syntex is very easy..\""
   ]
  },
  {
   "cell_type": "code",
   "execution_count": 16,
   "id": "b6639d75",
   "metadata": {},
   "outputs": [
    {
     "name": "stdout",
     "output_type": "stream",
     "text": [
      "{'p', 1, 'i', 'y', 'm', 's', 'l', ',', 'e', 't', ' ', 'x', 'v', 'o', 'a', 'd', 'r', 'n', 'h', '.'}\n"
     ]
    }
   ],
   "source": [
    "# set\n",
    "\n",
    "st = {1, }\n",
    "\n",
    "for i in a:\n",
    "    st.add(i)\n",
    "    \n",
    "print(st)\n",
    "    "
   ]
  },
  {
   "cell_type": "code",
   "execution_count": 4,
   "id": "63753ff3",
   "metadata": {},
   "outputs": [],
   "source": [
    "a = \"i am a lerener, i read python last time its syntex is very easy..\""
   ]
  },
  {
   "cell_type": "code",
   "execution_count": 5,
   "id": "e5bca099",
   "metadata": {},
   "outputs": [
    {
     "name": "stdout",
     "output_type": "stream",
     "text": [
      "['i', ' ', 'a', 'm', 'l', 'e', 'r', 'n', ',', 'd', 'p', 'y', 't', 'h', 'o', 's', 'x', 'v', '.']\n"
     ]
    }
   ],
   "source": [
    "lst = []\n",
    "\n",
    "for x in a:\n",
    "    if x in lst:\n",
    "        continue\n",
    "    lst.append(x)\n",
    "    \n",
    "print(lst)"
   ]
  },
  {
   "cell_type": "code",
   "execution_count": null,
   "id": "48f92b11",
   "metadata": {},
   "outputs": [],
   "source": [
    "# # while loop   : for while condation is true it execute\n",
    "\n",
    "\n",
    "# a = 10\n",
    "\n",
    "# # 10 == 10\n",
    "# while a == 10:\n",
    "#     print(\"heloooooo\")\n"
   ]
  },
  {
   "cell_type": "code",
   "execution_count": 6,
   "id": "f002c3dc",
   "metadata": {},
   "outputs": [
    {
     "name": "stdout",
     "output_type": "stream",
     "text": [
      "heloooooo\n",
      "heloooooo\n",
      "heloooooo\n",
      "heloooooo\n",
      "heloooooo\n",
      "heloooooo\n",
      "heloooooo\n",
      "heloooooo\n",
      "heloooooo\n"
     ]
    }
   ],
   "source": [
    "# while loop   : for while condation is true it execute\n",
    "\n",
    "\n",
    "a = 1\n",
    "\n",
    "# 10 == 10\n",
    "while a < 10:\n",
    "    print(\"heloooooo\")\n",
    "    a = a + 1\n"
   ]
  },
  {
   "cell_type": "code",
   "execution_count": null,
   "id": "407ee36f",
   "metadata": {},
   "outputs": [],
   "source": []
  },
  {
   "cell_type": "code",
   "execution_count": 1,
   "id": "b89baf32",
   "metadata": {},
   "outputs": [],
   "source": [
    "a = 1"
   ]
  },
  {
   "cell_type": "code",
   "execution_count": 2,
   "id": "16af630f",
   "metadata": {},
   "outputs": [
    {
     "data": {
      "text/plain": [
       "1"
      ]
     },
     "execution_count": 2,
     "metadata": {},
     "output_type": "execute_result"
    }
   ],
   "source": [
    "a"
   ]
  },
  {
   "cell_type": "code",
   "execution_count": 8,
   "id": "9b53668b",
   "metadata": {},
   "outputs": [
    {
     "name": "stdout",
     "output_type": "stream",
     "text": [
      "press q for quit and c for continue : c\n",
      "Enter user's name : kriss\n",
      "['kriss']\n",
      "press q for quit and c for continue : c\n",
      "Enter user's name : moris\n",
      "['kriss', 'moris']\n",
      "press q for quit and c for continue : c\n",
      "Enter user's name : helo\n",
      "['kriss', 'moris', 'helo']\n",
      "press q for quit and c for continue : c\n",
      "Enter user's name : hey\n",
      "['kriss', 'moris', 'helo', 'hey']\n",
      "press q for quit and c for continue : q\n"
     ]
    }
   ],
   "source": [
    "lt = []\n",
    "\n",
    "while True:\n",
    "    usin = input(\"press q for quit and c for continue : \")\n",
    "    \n",
    "    if usin == \"q\":\n",
    "        break\n",
    "    \n",
    "    elif usin == \"c\":\n",
    "        usernma = input(\"Enter user's name : \")\n",
    "        lt.append(usernma)\n",
    "        print(lt)\n",
    "    else:\n",
    "        print(\"something went wrong..!\")\n"
   ]
  },
  {
   "cell_type": "code",
   "execution_count": 11,
   "id": "ccb45e4f",
   "metadata": {},
   "outputs": [
    {
     "ename": "AssertionError",
     "evalue": "this is not equal",
     "output_type": "error",
     "traceback": [
      "\u001b[0;31m---------------------------------------------------------------------------\u001b[0m",
      "\u001b[0;31mAssertionError\u001b[0m                            Traceback (most recent call last)",
      "Cell \u001b[0;32mIn[11], line 5\u001b[0m\n\u001b[1;32m      1\u001b[0m \u001b[38;5;66;03m# ASSERT only use for debugging\u001b[39;00m\n\u001b[1;32m      2\u001b[0m \n\u001b[1;32m      3\u001b[0m \u001b[38;5;66;03m# assert operation : Exceptio/error\u001b[39;00m\n\u001b[0;32m----> 5\u001b[0m \u001b[38;5;28;01massert\u001b[39;00m \u001b[38;5;241m2\u001b[39m \u001b[38;5;241m+\u001b[39m \u001b[38;5;241m5\u001b[39m  \u001b[38;5;241m==\u001b[39m \u001b[38;5;241m4\u001b[39m, \u001b[38;5;124m\"\u001b[39m\u001b[38;5;124mthis is not equal\u001b[39m\u001b[38;5;124m\"\u001b[39m\n",
      "\u001b[0;31mAssertionError\u001b[0m: this is not equal"
     ]
    }
   ],
   "source": [
    "# ASSERT only use for debugging\n",
    "\n",
    "# assert operation : Exceptio/error\n",
    "\n",
    "assert 2 + 5  == 4, \"this is not equal\""
   ]
  },
  {
   "cell_type": "code",
   "execution_count": 15,
   "id": "c6a7d5d2",
   "metadata": {},
   "outputs": [
    {
     "name": "stdout",
     "output_type": "stream",
     "text": [
      "0\n",
      "1\n",
      "2\n",
      "3\n",
      "4\n",
      "5\n"
     ]
    }
   ],
   "source": [
    "# pass\n",
    "\n",
    "for i in range(6):\n",
    "    if i == 4:\n",
    "#         break\n",
    "#         continue\n",
    "        pass\n",
    "    print(i)"
   ]
  },
  {
   "cell_type": "code",
   "execution_count": 18,
   "id": "2d3aeb14",
   "metadata": {},
   "outputs": [],
   "source": [
    "for i in range(23):\n",
    "    pass\n",
    "    \n",
    "    \n",
    "for j in range(34):\n",
    "    pass"
   ]
  },
  {
   "cell_type": "code",
   "execution_count": 21,
   "id": "687f7886",
   "metadata": {},
   "outputs": [],
   "source": [
    "def xyz():\n",
    "    pass"
   ]
  },
  {
   "cell_type": "code",
   "execution_count": 22,
   "id": "ce70581d",
   "metadata": {},
   "outputs": [
    {
     "name": "stdout",
     "output_type": "stream",
     "text": [
      "22\n"
     ]
    }
   ],
   "source": [
    "# RETURN\n",
    "\n",
    "\n",
    "def xyz(a, b):\n",
    "    c = a + b\n",
    "    \n",
    "    return c\n",
    "\n",
    "\n",
    "new = xyz(12, 10)\n",
    "\n",
    "print(new)"
   ]
  },
  {
   "cell_type": "code",
   "execution_count": 24,
   "id": "c795a4b7",
   "metadata": {},
   "outputs": [
    {
     "ename": "NameError",
     "evalue": "name 'count' is not defined",
     "output_type": "error",
     "traceback": [
      "\u001b[0;31m---------------------------------------------------------------------------\u001b[0m",
      "\u001b[0;31mNameError\u001b[0m                                 Traceback (most recent call last)",
      "Cell \u001b[0;32mIn[24], line 7\u001b[0m\n\u001b[1;32m      4\u001b[0m a \u001b[38;5;241m=\u001b[39m [\u001b[38;5;241m4\u001b[39m, \u001b[38;5;241m5\u001b[39m, \u001b[38;5;241m6\u001b[39m, \u001b[38;5;241m8\u001b[39m, \u001b[38;5;241m12\u001b[39m]\n\u001b[1;32m      6\u001b[0m \u001b[38;5;66;03m# len(a)\u001b[39;00m\n\u001b[0;32m----> 7\u001b[0m \u001b[43mcount\u001b[49m(a)\n",
      "\u001b[0;31mNameError\u001b[0m: name 'count' is not defined"
     ]
    }
   ],
   "source": [
    "# count()\n",
    "\n",
    "\n",
    "a = [4, 5, 6, 8, 12]\n",
    "\n",
    "# len(a)\n",
    "count(a)"
   ]
  },
  {
   "cell_type": "code",
   "execution_count": null,
   "id": "8896cfbc",
   "metadata": {},
   "outputs": [],
   "source": []
  }
 ],
 "metadata": {
  "kernelspec": {
   "display_name": "Python 3 (ipykernel)",
   "language": "python",
   "name": "python3"
  },
  "language_info": {
   "codemirror_mode": {
    "name": "ipython",
    "version": 3
   },
   "file_extension": ".py",
   "mimetype": "text/x-python",
   "name": "python",
   "nbconvert_exporter": "python",
   "pygments_lexer": "ipython3",
   "version": "3.10.12"
  }
 },
 "nbformat": 4,
 "nbformat_minor": 5
}
