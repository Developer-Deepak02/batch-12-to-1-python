{
 "cells": [
  {
   "cell_type": "code",
   "execution_count": 3,
   "id": "22447c57",
   "metadata": {},
   "outputs": [],
   "source": [
    "# List => is used to store multipal data in a single variable...\n",
    "\n",
    "\n",
    "# a, b = 10, 20\n",
    "\n",
    "# []"
   ]
  },
  {
   "cell_type": "code",
   "execution_count": 12,
   "id": "20c22535",
   "metadata": {},
   "outputs": [],
   "source": [
    "lst = [12, 12.0, \"name\", 120, 12]"
   ]
  },
  {
   "cell_type": "code",
   "execution_count": 13,
   "id": "d5609aeb",
   "metadata": {},
   "outputs": [
    {
     "data": {
      "text/plain": [
       "list"
      ]
     },
     "execution_count": 13,
     "metadata": {},
     "output_type": "execute_result"
    }
   ],
   "source": [
    "type(lst)"
   ]
  },
  {
   "cell_type": "code",
   "execution_count": 14,
   "id": "152108f0",
   "metadata": {},
   "outputs": [
    {
     "data": {
      "text/plain": [
       "[12, 12.0, 'name', 120, 12, 100]"
      ]
     },
     "execution_count": 14,
     "metadata": {},
     "output_type": "execute_result"
    }
   ],
   "source": [
    "lst.append(100)\n",
    "lst"
   ]
  },
  {
   "cell_type": "code",
   "execution_count": 15,
   "id": "4e5733d2",
   "metadata": {},
   "outputs": [
    {
     "data": {
      "text/plain": [
       "[12, 1000, 12.0, 'name', 120, 12, 100]"
      ]
     },
     "execution_count": 15,
     "metadata": {},
     "output_type": "execute_result"
    }
   ],
   "source": [
    "lst.insert(1, 1000)\n",
    "lst"
   ]
  },
  {
   "cell_type": "code",
   "execution_count": 17,
   "id": "72df0086",
   "metadata": {},
   "outputs": [
    {
     "data": {
      "text/plain": [
       "[12, 12.0, 'name', 120, 12, 100]"
      ]
     },
     "execution_count": 17,
     "metadata": {},
     "output_type": "execute_result"
    }
   ],
   "source": [
    "lst.remove(1000)\n",
    "lst"
   ]
  },
  {
   "cell_type": "code",
   "execution_count": 18,
   "id": "b7086dca",
   "metadata": {},
   "outputs": [
    {
     "data": {
      "text/plain": [
       "100"
      ]
     },
     "execution_count": 18,
     "metadata": {},
     "output_type": "execute_result"
    }
   ],
   "source": [
    "lst.pop()"
   ]
  },
  {
   "cell_type": "code",
   "execution_count": 19,
   "id": "e1e12de3",
   "metadata": {},
   "outputs": [
    {
     "data": {
      "text/plain": [
       "[12, 12.0, 'name', 120, 12]"
      ]
     },
     "execution_count": 19,
     "metadata": {},
     "output_type": "execute_result"
    }
   ],
   "source": [
    "lst"
   ]
  },
  {
   "cell_type": "code",
   "execution_count": 20,
   "id": "475567f3",
   "metadata": {},
   "outputs": [
    {
     "data": {
      "text/plain": [
       "12.0"
      ]
     },
     "execution_count": 20,
     "metadata": {},
     "output_type": "execute_result"
    }
   ],
   "source": [
    "lst.pop(1)"
   ]
  },
  {
   "cell_type": "code",
   "execution_count": 21,
   "id": "3ef72e43",
   "metadata": {},
   "outputs": [
    {
     "data": {
      "text/plain": [
       "[12, 'name', 120, 12]"
      ]
     },
     "execution_count": 21,
     "metadata": {},
     "output_type": "execute_result"
    }
   ],
   "source": [
    "lst"
   ]
  },
  {
   "cell_type": "code",
   "execution_count": 23,
   "id": "bae4c10c",
   "metadata": {},
   "outputs": [
    {
     "name": "stdout",
     "output_type": "stream",
     "text": [
      "[2, 4, 6, 8, 4, 6, 9, 10]\n"
     ]
    }
   ],
   "source": [
    "a = [2, 4, 6, 8]\n",
    "b = [4, 6, 9, 10]\n",
    "\n",
    "print(a + b)"
   ]
  },
  {
   "cell_type": "code",
   "execution_count": 26,
   "id": "eb85871c",
   "metadata": {},
   "outputs": [
    {
     "data": {
      "text/plain": [
       "[1, 3, 4, 6, 7, 8, 10]"
      ]
     },
     "execution_count": 26,
     "metadata": {},
     "output_type": "execute_result"
    }
   ],
   "source": [
    "# sort()\n",
    "\n",
    "a = [3, 8, 4, 6, 1, 7, 10]\n",
    "\n",
    "a.sort()\n",
    "\n",
    "a"
   ]
  },
  {
   "cell_type": "code",
   "execution_count": 27,
   "id": "1e683d1b",
   "metadata": {},
   "outputs": [],
   "source": [
    "a.clear()"
   ]
  },
  {
   "cell_type": "code",
   "execution_count": 28,
   "id": "4bbd5648",
   "metadata": {},
   "outputs": [
    {
     "data": {
      "text/plain": [
       "[]"
      ]
     },
     "execution_count": 28,
     "metadata": {},
     "output_type": "execute_result"
    }
   ],
   "source": [
    "a"
   ]
  },
  {
   "cell_type": "code",
   "execution_count": 29,
   "id": "17bc32ac",
   "metadata": {},
   "outputs": [
    {
     "data": {
      "text/plain": [
       "26"
      ]
     },
     "execution_count": 29,
     "metadata": {},
     "output_type": "execute_result"
    }
   ],
   "source": [
    "lst = [1,3, 10, 9, 3]\n",
    "\n",
    "sum(lst)\n"
   ]
  },
  {
   "cell_type": "code",
   "execution_count": 30,
   "id": "8e73cc2d",
   "metadata": {},
   "outputs": [
    {
     "data": {
      "text/plain": [
       "5"
      ]
     },
     "execution_count": 30,
     "metadata": {},
     "output_type": "execute_result"
    }
   ],
   "source": [
    "# len()\n",
    "len(lst)"
   ]
  },
  {
   "cell_type": "code",
   "execution_count": 37,
   "id": "3878d441",
   "metadata": {},
   "outputs": [
    {
     "data": {
      "text/plain": [
       "[9, 3, 80, 50]"
      ]
     },
     "execution_count": 37,
     "metadata": {},
     "output_type": "execute_result"
    }
   ],
   "source": [
    "lst = [1, 3, 10, 9, 3, 80, 50]\n",
    "\n",
    "# lst[start, end, increment]\n",
    "\n",
    "lst[3:7]"
   ]
  },
  {
   "cell_type": "code",
   "execution_count": 41,
   "id": "0266ed3a",
   "metadata": {},
   "outputs": [
    {
     "data": {
      "text/plain": [
       "[9, 3, 80, 50]"
      ]
     },
     "execution_count": 41,
     "metadata": {},
     "output_type": "execute_result"
    }
   ],
   "source": [
    "lst[-4: ]"
   ]
  },
  {
   "cell_type": "code",
   "execution_count": 42,
   "id": "526893f4",
   "metadata": {},
   "outputs": [],
   "source": [
    "lst.reverse()"
   ]
  },
  {
   "cell_type": "code",
   "execution_count": 43,
   "id": "0e97d6e4",
   "metadata": {},
   "outputs": [
    {
     "data": {
      "text/plain": [
       "[50, 80, 3, 9, 10, 3, 1]"
      ]
     },
     "execution_count": 43,
     "metadata": {},
     "output_type": "execute_result"
    }
   ],
   "source": [
    "lst"
   ]
  },
  {
   "cell_type": "code",
   "execution_count": null,
   "id": "aa8e174b",
   "metadata": {},
   "outputs": [],
   "source": [
    "list : Ordered, mutable = changable"
   ]
  },
  {
   "cell_type": "code",
   "execution_count": null,
   "id": "5fbf43aa",
   "metadata": {},
   "outputs": [],
   "source": []
  },
  {
   "cell_type": "code",
   "execution_count": 45,
   "id": "9e88232f",
   "metadata": {},
   "outputs": [
    {
     "name": "stdout",
     "output_type": "stream",
     "text": [
      "<class 'tuple'>\n"
     ]
    }
   ],
   "source": [
    "# Tuple : Collction of multipal data in a single variable...\n",
    "# ()\n",
    "\n",
    "a = (10, )\n",
    "print(type(a))"
   ]
  },
  {
   "cell_type": "code",
   "execution_count": 46,
   "id": "8f520eef",
   "metadata": {},
   "outputs": [],
   "source": [
    "tpl = (12, \"name\", \"car\", 10.9)"
   ]
  },
  {
   "cell_type": "code",
   "execution_count": 47,
   "id": "9464332d",
   "metadata": {},
   "outputs": [
    {
     "name": "stdout",
     "output_type": "stream",
     "text": [
      "(12, 'name', 'car', 10.9)\n",
      "<class 'tuple'>\n"
     ]
    }
   ],
   "source": [
    "print(tpl)\n",
    "print(type(tpl))"
   ]
  },
  {
   "cell_type": "code",
   "execution_count": 48,
   "id": "ef79c7f4",
   "metadata": {},
   "outputs": [
    {
     "data": {
      "text/plain": [
       "('name', 'car')"
      ]
     },
     "execution_count": 48,
     "metadata": {},
     "output_type": "execute_result"
    }
   ],
   "source": [
    "tpl[1:3]"
   ]
  },
  {
   "cell_type": "code",
   "execution_count": 49,
   "id": "1194b484",
   "metadata": {},
   "outputs": [],
   "source": [
    "# Tuple => Ordered, imutable"
   ]
  },
  {
   "cell_type": "code",
   "execution_count": 58,
   "id": "419164f9",
   "metadata": {},
   "outputs": [
    {
     "data": {
      "text/plain": [
       "(12, 5, 10, 100)"
      ]
     },
     "execution_count": 58,
     "metadata": {},
     "output_type": "execute_result"
    }
   ],
   "source": [
    "a = (12, 5, 10)\n",
    "\n",
    "# a.append(100)\n",
    "\n",
    "lt = list(a)\n",
    "\n",
    "# print(lt)\n",
    "\n",
    "lt.append(100)\n",
    "\n",
    "tp = tuple(lt)\n",
    "\n",
    "tp"
   ]
  },
  {
   "cell_type": "code",
   "execution_count": 53,
   "id": "1bbe5f68",
   "metadata": {},
   "outputs": [
    {
     "name": "stdout",
     "output_type": "stream",
     "text": [
      "<class 'int'>\n",
      "10\n",
      "<class 'str'>\n"
     ]
    }
   ],
   "source": [
    "# a = 10\n",
    "# print(type(a))\n",
    "\n",
    "# b = str(a)\n",
    "# print(b)\n",
    "# print(type(b))"
   ]
  },
  {
   "cell_type": "code",
   "execution_count": null,
   "id": "2db29e2b",
   "metadata": {},
   "outputs": [],
   "source": []
  },
  {
   "cell_type": "code",
   "execution_count": 65,
   "id": "9762a428",
   "metadata": {},
   "outputs": [],
   "source": [
    "# Set: same collection of multipal data\n",
    "# {}\n",
    "\n",
    "st = {12, 100, \"name\", 90, 10.2, 12, 100}"
   ]
  },
  {
   "cell_type": "code",
   "execution_count": 66,
   "id": "d57f83f0",
   "metadata": {},
   "outputs": [
    {
     "name": "stdout",
     "output_type": "stream",
     "text": [
      "{'name', 100, 90, 10.2, 12}\n",
      "<class 'set'>\n"
     ]
    }
   ],
   "source": [
    "print(st)\n",
    "print(type(st))"
   ]
  },
  {
   "cell_type": "code",
   "execution_count": 68,
   "id": "98f0a804",
   "metadata": {},
   "outputs": [],
   "source": [
    "st.add(\"newdata\")"
   ]
  },
  {
   "cell_type": "code",
   "execution_count": 69,
   "id": "84a47a67",
   "metadata": {},
   "outputs": [
    {
     "data": {
      "text/plain": [
       "{10.2, 100, 12, 90, 'name', 'newdata'}"
      ]
     },
     "execution_count": 69,
     "metadata": {},
     "output_type": "execute_result"
    }
   ],
   "source": [
    "st"
   ]
  },
  {
   "cell_type": "code",
   "execution_count": 71,
   "id": "6c78b318",
   "metadata": {},
   "outputs": [
    {
     "data": {
      "text/plain": [
       "'name'"
      ]
     },
     "execution_count": 71,
     "metadata": {},
     "output_type": "execute_result"
    }
   ],
   "source": [
    "st.pop()"
   ]
  },
  {
   "cell_type": "code",
   "execution_count": 73,
   "id": "3fdd0c66",
   "metadata": {},
   "outputs": [],
   "source": [
    "st.remove(100)"
   ]
  },
  {
   "cell_type": "code",
   "execution_count": 74,
   "id": "28ef8bfb",
   "metadata": {},
   "outputs": [
    {
     "data": {
      "text/plain": [
       "{10.2, 12, 90, 'newdata'}"
      ]
     },
     "execution_count": 74,
     "metadata": {},
     "output_type": "execute_result"
    }
   ],
   "source": [
    "st"
   ]
  },
  {
   "cell_type": "code",
   "execution_count": null,
   "id": "d6716d5b",
   "metadata": {},
   "outputs": [],
   "source": []
  },
  {
   "cell_type": "code",
   "execution_count": null,
   "id": "24f2c326",
   "metadata": {},
   "outputs": [],
   "source": [
    "# set : unordered, mutable, remove duplicates"
   ]
  },
  {
   "cell_type": "code",
   "execution_count": null,
   "id": "80260b19",
   "metadata": {},
   "outputs": [],
   "source": [
    "\n",
    "\n"
   ]
  },
  {
   "cell_type": "code",
   "execution_count": 75,
   "id": "dc3811fe",
   "metadata": {},
   "outputs": [],
   "source": [
    "# Dictionry => colction of data     key:value paris"
   ]
  },
  {
   "cell_type": "code",
   "execution_count": 76,
   "id": "7607d622",
   "metadata": {},
   "outputs": [],
   "source": [
    "dic = {\n",
    "    \"Name\" : \"Kriss\",\n",
    "    \"Age\" : 20,\n",
    "    \"Marks\" : 90\n",
    "}"
   ]
  },
  {
   "cell_type": "code",
   "execution_count": 77,
   "id": "32fcb724",
   "metadata": {},
   "outputs": [
    {
     "data": {
      "text/plain": [
       "{'Name': 'Kriss', 'Age': 20, 'Marks': 90}"
      ]
     },
     "execution_count": 77,
     "metadata": {},
     "output_type": "execute_result"
    }
   ],
   "source": [
    "dic"
   ]
  },
  {
   "cell_type": "code",
   "execution_count": 79,
   "id": "48b177c3",
   "metadata": {},
   "outputs": [
    {
     "data": {
      "text/plain": [
       "20"
      ]
     },
     "execution_count": 79,
     "metadata": {},
     "output_type": "execute_result"
    }
   ],
   "source": [
    "dic[\"Age\"]"
   ]
  },
  {
   "cell_type": "code",
   "execution_count": 80,
   "id": "be1d4ac4",
   "metadata": {},
   "outputs": [],
   "source": [
    "dic[\"Phone_Number\"] = 92346293893"
   ]
  },
  {
   "cell_type": "code",
   "execution_count": 81,
   "id": "536d997b",
   "metadata": {},
   "outputs": [
    {
     "data": {
      "text/plain": [
       "{'Name': 'Kriss', 'Age': 20, 'Marks': 90, 'Phone_Number': 92346293893}"
      ]
     },
     "execution_count": 81,
     "metadata": {},
     "output_type": "execute_result"
    }
   ],
   "source": [
    "dic"
   ]
  },
  {
   "cell_type": "code",
   "execution_count": 83,
   "id": "6f834fb4",
   "metadata": {},
   "outputs": [],
   "source": [
    "dic[\"Age\"] = 21"
   ]
  },
  {
   "cell_type": "code",
   "execution_count": 84,
   "id": "324c7b24",
   "metadata": {},
   "outputs": [
    {
     "data": {
      "text/plain": [
       "{'Name': 'Kriss', 'Age': 21, 'Marks': 90, 'Phone_Number': 92346293893}"
      ]
     },
     "execution_count": 84,
     "metadata": {},
     "output_type": "execute_result"
    }
   ],
   "source": [
    "dic"
   ]
  },
  {
   "cell_type": "code",
   "execution_count": 96,
   "id": "1d9e85c3",
   "metadata": {},
   "outputs": [],
   "source": [
    "# JSON\n",
    "\n",
    "dictio = {\n",
    "    \"dict1\" : {\n",
    "        \"name\" : \"Ayush\",\n",
    "        \"Age\" : 20,\n",
    "        \"Marks\" : 80\n",
    "    },\n",
    "    \n",
    "    \"dict2\" : {\n",
    "        \"name\" : \"Kriss\",\n",
    "        \"Age\" : 21,\n",
    "        \"Marks\" : 70\n",
    "    }\n",
    "}"
   ]
  },
  {
   "cell_type": "code",
   "execution_count": 101,
   "id": "35be9923",
   "metadata": {},
   "outputs": [
    {
     "data": {
      "text/plain": [
       "21"
      ]
     },
     "execution_count": 101,
     "metadata": {},
     "output_type": "execute_result"
    }
   ],
   "source": [
    "dictio[\"dict2\"][\"Age\"]"
   ]
  },
  {
   "cell_type": "code",
   "execution_count": 103,
   "id": "c90357c6",
   "metadata": {},
   "outputs": [
    {
     "data": {
      "text/plain": [
       "'Ayush'"
      ]
     },
     "execution_count": 103,
     "metadata": {},
     "output_type": "execute_result"
    }
   ],
   "source": [
    "dictio[\"dict1\"][\"name\"]"
   ]
  },
  {
   "cell_type": "code",
   "execution_count": null,
   "id": "f07037d9",
   "metadata": {},
   "outputs": [],
   "source": []
  },
  {
   "cell_type": "code",
   "execution_count": 104,
   "id": "1027fb3c",
   "metadata": {},
   "outputs": [],
   "source": [
    "# dictionry : ordered, mutable"
   ]
  },
  {
   "cell_type": "code",
   "execution_count": 105,
   "id": "f0b9d96a",
   "metadata": {},
   "outputs": [],
   "source": [
    "dic = {\n",
    "    \"Name\" : \"Kriss\",\n",
    "    \"Age\" : 20,\n",
    "    \"Marks\" : 90\n",
    "}"
   ]
  },
  {
   "cell_type": "code",
   "execution_count": 106,
   "id": "4b78e72b",
   "metadata": {},
   "outputs": [
    {
     "data": {
      "text/plain": [
       "dict_keys(['Name', 'Age', 'Marks'])"
      ]
     },
     "execution_count": 106,
     "metadata": {},
     "output_type": "execute_result"
    }
   ],
   "source": [
    "dic.keys()"
   ]
  },
  {
   "cell_type": "code",
   "execution_count": 107,
   "id": "91541e5a",
   "metadata": {},
   "outputs": [
    {
     "data": {
      "text/plain": [
       "dict_values(['Kriss', 20, 90])"
      ]
     },
     "execution_count": 107,
     "metadata": {},
     "output_type": "execute_result"
    }
   ],
   "source": [
    "dic.values()"
   ]
  },
  {
   "cell_type": "code",
   "execution_count": 108,
   "id": "7c42e24d",
   "metadata": {},
   "outputs": [
    {
     "name": "stdout",
     "output_type": "stream",
     "text": [
      "Name\n",
      "Age\n",
      "Marks\n"
     ]
    }
   ],
   "source": [
    "for i in dic.keys():\n",
    "    print(i)"
   ]
  },
  {
   "cell_type": "code",
   "execution_count": 110,
   "id": "acf9a88b",
   "metadata": {},
   "outputs": [],
   "source": [
    "a = [12, 2, 3, 34, 100, 89]"
   ]
  },
  {
   "cell_type": "code",
   "execution_count": 111,
   "id": "b368c352",
   "metadata": {},
   "outputs": [],
   "source": [
    "a.sort()"
   ]
  },
  {
   "cell_type": "code",
   "execution_count": null,
   "id": "a1e3db51",
   "metadata": {},
   "outputs": [],
   "source": []
  }
 ],
 "metadata": {
  "kernelspec": {
   "display_name": "Python 3 (ipykernel)",
   "language": "python",
   "name": "python3"
  },
  "language_info": {
   "codemirror_mode": {
    "name": "ipython",
    "version": 3
   },
   "file_extension": ".py",
   "mimetype": "text/x-python",
   "name": "python",
   "nbconvert_exporter": "python",
   "pygments_lexer": "ipython3",
   "version": "3.10.12"
  }
 },
 "nbformat": 4,
 "nbformat_minor": 5
}
